{
 "cells": [
  {
   "cell_type": "markdown",
   "id": "f70e0453",
   "metadata": {},
   "source": [
    "we have to import cv2,matplot library.numpy"
   ]
  },
  {
   "cell_type": "code",
   "execution_count": 1,
   "id": "6a1a86dc",
   "metadata": {},
   "outputs": [],
   "source": [
    "import cv2\n",
    "import matplotlib.pyplot as plt\n",
    "import numpy as np"
   ]
  },
  {
   "cell_type": "code",
   "execution_count": null,
   "id": "5890cfea",
   "metadata": {},
   "outputs": [],
   "source": [
    "img = cv2.imread(input_img)"
   ]
  },
  {
   "cell_type": "code",
   "execution_count": null,
   "id": "28cbffa4",
   "metadata": {},
   "outputs": [],
   "source": [
    "plt.imshow(img[:,:,::-1])"
   ]
  },
  {
   "cell_type": "code",
   "execution_count": null,
   "id": "b1dbefd0",
   "metadata": {},
   "outputs": [],
   "source": [
    "detector_path =\"C:\\ProgramData\\Anaconda3\\Lib\\site-packages\\cv2\\data/haarcascade_frontalface_default.xml\"\n",
    "detector = cv2.CascadeClassifier(detector_path)"
   ]
  },
  {
   "cell_type": "code",
   "execution_count": null,
   "id": "edc30f7e",
   "metadata": {},
   "outputs": [],
   "source": [
    "faces = detector.detectMultiScale(img,1.2,5)"
   ]
  },
  {
   "cell_type": "code",
   "execution_count": null,
   "id": "fd73c4aa",
   "metadata": {},
   "outputs": [],
   "source": [
    "faces"
   ]
  },
  {
   "cell_type": "code",
   "execution_count": null,
   "id": "04a201fc",
   "metadata": {},
   "outputs": [],
   "source": [
    "x, y, w, h = faces[0]"
   ]
  },
  {
   "cell_type": "code",
   "execution_count": null,
   "id": "2490cc50",
   "metadata": {},
   "outputs": [],
   "source": [
    "detected_face = img[int(y):int(y+h),int(x):int(x+w)]"
   ]
  },
  {
   "cell_type": "code",
   "execution_count": null,
   "id": "b7c6071c",
   "metadata": {},
   "outputs": [],
   "source": [
    "detected_face = cv2.resize(detected_face,(224,224))"
   ]
  },
  {
   "cell_type": "code",
   "execution_count": null,
   "id": "e5110340",
   "metadata": {},
   "outputs": [],
   "source": [
    "detected_face.shape"
   ]
  },
  {
   "cell_type": "code",
   "execution_count": null,
   "id": "67b2fd4e",
   "metadata": {},
   "outputs": [],
   "source": [
    "plt.imshow(detected_face)"
   ]
  },
  {
   "cell_type": "code",
   "execution_count": null,
   "id": "62538093",
   "metadata": {},
   "outputs": [],
   "source": [
    "detected_face_blob =cv2.dnn.blobFromImage(detected_face)"
   ]
  },
  {
   "cell_type": "code",
   "execution_count": null,
   "id": "369e69d8",
   "metadata": {},
   "outputs": [],
   "source": [
    "detected_face_blob.shape"
   ]
  },
  {
   "cell_type": "code",
   "execution_count": null,
   "id": "10e7cbb9",
   "metadata": {},
   "outputs": [],
   "source": [
    "age_model.setInput(detected_face_blob)\n",
    "age_result = age_model.forward()\n",
    "\n",
    "gender_model.setInput(detected_face_blob)\n",
    "gender_result = gender_model.forward()"
   ]
  },
  {
   "cell_type": "code",
   "execution_count": null,
   "id": "4c6bb47a",
   "metadata": {},
   "outputs": [],
   "source": [
    "gender_result"
   ]
  },
  {
   "cell_type": "code",
   "execution_count": null,
   "id": "09f7b04a",
   "metadata": {},
   "outputs": [],
   "source": [
    "np.argmax(gender_result[0])"
   ]
  },
  {
   "cell_type": "code",
   "execution_count": null,
   "id": "3b1e22bb",
   "metadata": {},
   "outputs": [],
   "source": [
    "if(np.argmax(gender_result[0]) == 0):\n",
    "    a = \"women\"\n",
    "else:\n",
    "    a = \"men\""
   ]
  },
  {
   "cell_type": "code",
   "execution_count": null,
   "id": "3a61f793",
   "metadata": {},
   "outputs": [],
   "source": [
    "age_result"
   ]
  },
  {
   "cell_type": "code",
   "execution_count": null,
   "id": "d683e994",
   "metadata": {},
   "outputs": [],
   "source": [
    "len(age_result[0])"
   ]
  },
  {
   "cell_type": "code",
   "execution_count": null,
   "id": "dddb83b0",
   "metadata": {},
   "outputs": [],
   "source": [
    "indexes = np.array([i for i in range (0,101)])"
   ]
  },
  {
   "cell_type": "code",
   "execution_count": null,
   "id": "e305df28",
   "metadata": {},
   "outputs": [],
   "source": [
    "apparent_age = round(np.sum(age_result[0] * indexes))"
   ]
  },
  {
   "cell_type": "code",
   "execution_count": null,
   "id": "f70326b6",
   "metadata": {},
   "outputs": [],
   "source": [
    "b = apparent_age"
   ]
  },
  {
   "cell_type": "code",
   "execution_count": null,
   "id": "b8e3f476",
   "metadata": {},
   "outputs": [],
   "source": [
    "print(\"                     (\",a,\",\",b,\")\")\n",
    "print(\"given input image of -->\",a,\"who is-->\",b,'year_old')"
   ]
  }
 ],
 "metadata": {
  "kernelspec": {
   "display_name": "Python 3",
   "language": "python",
   "name": "python3"
  },
  "language_info": {
   "codemirror_mode": {
    "name": "ipython",
    "version": 3
   },
   "file_extension": ".py",
   "mimetype": "text/x-python",
   "name": "python",
   "nbconvert_exporter": "python",
   "pygments_lexer": "ipython3",
   "version": "3.8.8"
  }
 },
 "nbformat": 4,
 "nbformat_minor": 5
}
